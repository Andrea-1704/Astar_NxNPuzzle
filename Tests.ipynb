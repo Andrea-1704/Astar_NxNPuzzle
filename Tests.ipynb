{
 "cells": [
  {
   "cell_type": "code",
   "execution_count": null,
   "metadata": {
    "vscode": {
     "languageId": "plaintext"
    }
   },
   "outputs": [],
   "source": [
    "def a_star_no_storing(initial_state: np.ndarray, final_state: np.ndarray) -> list[action] or None:\n",
    "    \"\"\"\n",
    "    Performs an A* search to solve the n-puzzle.\n",
    "    \n",
    "    Parameters:\n",
    "    - initial_state (np.ndarray): The starting state of the puzzle.\n",
    "    - final_state (np.ndarray): The desired goal state of the puzzle.\n",
    "    \n",
    "    Returns:\n",
    "    - list[action] or None: A sequence of actions leading to the solution, or None if no solution is found.\n",
    "    \"\"\"\n",
    "    # Priority queue: (f_score, g_score, current_state, path)\n",
    "    open_set = []\n",
    "    heappush(open_set, (manhattan_distance(initial_state, final_state), 0, initial_state.tobytes(), []))\n",
    "    #this function push into open_set a new element continuing to garantee the heap properties.\n",
    "    # the element that we insert are 4.\n",
    "    \n",
    "    visited = set()  \n",
    "    optimum = matrix_score(final_state)\n",
    "    \n",
    "    while open_set:\n",
    "        f_score, g_score, current_bytes, path = heappop(open_set)\n",
    "        current_state = np.frombuffer(current_bytes, dtype=initial_state.dtype).reshape(initial_state.shape)\n",
    "        current_score = matrix_score(current_state)\n",
    "\n",
    "        # Check if we reached the goal\n",
    "        if current_score == optimum:\n",
    "            return path\n",
    "        \n",
    "        # Mark current state as visited\n",
    "        visited.add(current_score)\n",
    "        #visited.add(current_bytes)\n",
    "        \n",
    "        # Generate and iterate over all possible moves\n",
    "        for act in available_actions(current_state):\n",
    "            next_state = do_action(current_state, act)\n",
    "            next_bytes = next_state.tobytes()\n",
    "            value = matrix_score(next_state)\n",
    "            if value in visited:\n",
    "                continue\n",
    "            \n",
    "            # Calculate scores for the next state\n",
    "            new_g_score = g_score + 1\n",
    "            new_f_score = new_g_score + manhattan_distance(next_state, final_state)\n",
    "            \n",
    "            # Push the new state into the priority queue with updated scores\n",
    "            heappush(open_set, (new_f_score, new_g_score, next_bytes, path + [act]))\n",
    "    \n",
    "    return None  # Return None if no solution is found"
   ]
  },
  {
   "cell_type": "markdown",
   "metadata": {},
   "source": [
    "The idea was to store a value representative of the state, but does not works."
   ]
  }
 ],
 "metadata": {
  "language_info": {
   "name": "python"
  }
 },
 "nbformat": 4,
 "nbformat_minor": 2
}
